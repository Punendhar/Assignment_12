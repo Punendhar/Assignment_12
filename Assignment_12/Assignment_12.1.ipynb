{
 "cells": [
  {
   "cell_type": "markdown",
   "metadata": {},
   "source": [
    "Problem Statement 1:\n",
    "    \n",
    "A test is conducted which is consisting of 20 MCQs (multiple choices questions) with\n",
    "\n",
    "every MCQ having its four options out of which only one is correct. Determine the\n",
    "\n",
    "probability that a person undertaking that test has answered exactly 5 questions wrong."
   ]
  },
  {
   "cell_type": "code",
   "execution_count": 3,
   "metadata": {},
   "outputs": [
    {
     "name": "stdout",
     "output_type": "stream",
     "text": [
      "0.75\n"
     ]
    }
   ],
   "source": [
    "# Importing libraries\n",
    "from scipy.stats import binom\n",
    "# No. of Trails = No.of multiple choice questions\n",
    "n = 20\n",
    "\n",
    "# Number of questions answered wrong  = 5\n",
    "success = 5\n",
    " \n",
    "# Probability of getting a question right  = 1 - (No. of correct answers per question/Total number of possible answers per question)\n",
    "p = 1 - (1/4)\n",
    "print(p)"
   ]
  },
  {
   "cell_type": "code",
   "execution_count": 4,
   "metadata": {},
   "outputs": [
    {
     "name": "stdout",
     "output_type": "stream",
     "text": [
      "The probability that a person undertaking the test answered exactly 5 questions wrong is : 0.0000034265\n"
     ]
    }
   ],
   "source": [
    "# PMF is the function that we can use to get the probability of exact values\n",
    "print(\"The probability that a person undertaking the test answered exactly 5 questions wrong is : {:0.10f}\".format(binom.pmf(success, n, p)))"
   ]
  },
  {
   "cell_type": "markdown",
   "metadata": {},
   "source": [
    "==================================\n",
    "\n",
    "Step 1: Determine the Formula:\n",
    "Binomial Distribution: Bernoulli trials where n = 1\n",
    "n = number of trials attempted, \n",
    "k = number of successes in ‘n’ trials\n",
    "n - k = number of failures\n",
    "s = probability of success in a trial\n",
    "(1 - s) = probability of failure\n",
    "\n",
    "P (‘k’ successes in ‘n’ trials) = C(n,k)*(s^k)*((1−s)^(n−k))\n",
    "where, \n",
    "C (n, k) = n!/(k!(n−k)!)\n",
    "\n",
    "Step 2: Formula substitution:\n",
    "        \n",
    "n = 20\n",
    "n - k = 5 \n",
    "k = 20 - 5 = 15\n",
    "\n",
    "s = (1/4), where probability of success or the right answer\n",
    "1 - s = 1 - (1/4) = (3/4), where probability of failure or the wrong answer\n",
    "\n",
    "Therefore the binomial distribution is P (exactly 5 out of 20 answers incorrect) = C (20,5) * ((1/4)^15) * ((3/4)^5)\n",
    "\n",
    "= P (5 out of 20) = (20∗19∗18∗17∗16)/(5∗4∗3∗2∗1) * (1/4)^15 * (3/4)^5\n",
    "\n",
    "= 3.4 * 10^(-6) = 0.0000034"
   ]
  },
  {
   "cell_type": "markdown",
   "metadata": {},
   "source": []
  },
  {
   "cell_type": "markdown",
   "metadata": {},
   "source": [
    "Problem Statement 2:\n",
    "    \n",
    "A die marked A to E is rolled 50 times. Find the probability of getting a “D” exactly 5\n",
    "times."
   ]
  },
  {
   "cell_type": "code",
   "execution_count": 6,
   "metadata": {},
   "outputs": [
    {
     "name": "stdout",
     "output_type": "stream",
     "text": [
      "p:  0.2\n",
      "The probability of getting a “D” exactly 5 times is : 0.0295312043\n"
     ]
    }
   ],
   "source": [
    "# Importing libraries\n",
    "from scipy.stats import binom\n",
    "\n",
    "# No. of Trails =  No. of times the die is rolled i.e. 50\n",
    "n=50\n",
    "\n",
    "# The die has to roll a “D” exactly 5 times\n",
    "success = 5\n",
    "\n",
    "# Probability of getting \"D\" when rolled once is =  1/5\n",
    "p = 1/5\n",
    "print(\"p: \", p)\n",
    "p:  0.2\n",
    "\n",
    "# PMF is the function that we can use to get the probability of exact values\n",
    "print(\"The probability of getting a “D” exactly 5 times is : {:0.10f}\".format(binom.pmf(success,n,p)))"
   ]
  },
  {
   "cell_type": "markdown",
   "metadata": {},
   "source": [
    "Here, n = 50, k = 5, n - k = 4/5.\n",
    "\n",
    "The probability of success = probability of getting a “D”= s = 1/5\n",
    "\n",
    "Hence, the probability of failure = probability of not getting a “D” = 1 - s = 4/5.\n",
    "\n"
   ]
  },
  {
   "cell_type": "code",
   "execution_count": null,
   "metadata": {},
   "outputs": [],
   "source": []
  },
  {
   "cell_type": "markdown",
   "metadata": {},
   "source": [
    "Problem Statement 3:\n",
    "    \n",
    "Two balls are drawn at random in succession without replacement from an urn\n",
    "containing 4 red balls and 6 black balls.\n",
    "Find the probabilities of all the possible outcomes."
   ]
  },
  {
   "cell_type": "code",
   "execution_count": 7,
   "metadata": {},
   "outputs": [],
   "source": [
    "# Importing libraries# Impor \n",
    "from scipy.stats import binom\n",
    "\n",
    "# Initializing values\n",
    "r = 4 # No. of red balls\n",
    "b = 6 # No. of black balls\n",
    "t = r + b # Total number of balls"
   ]
  },
  {
   "cell_type": "code",
   "execution_count": 8,
   "metadata": {},
   "outputs": [
    {
     "name": "stdout",
     "output_type": "stream",
     "text": [
      "Probability of (red, red):  0.13333333333333333\n",
      "Probability of (red,black):  0.26666666666666666\n",
      "Probability of (black, red):  0.26666666666666666\n",
      "Probability of (black, black):  0.3333333333333333\n"
     ]
    }
   ],
   "source": [
    "#There are only four possible combinations when the two balls are drawn at random: \n",
    "# (red, red),(red,black),(black, red), (black, black)\n",
    "\n",
    "# Probability of (red, red)\n",
    "prob_rr = ((r/t)*((r-1)/(t-1))) \n",
    "print(\"Probability of (red, red): \", prob_rr)\n",
    "\n",
    "# Probability of (red, black)\n",
    "prob_rb = ((r/t)*((b)/(t-1))) \n",
    "print(\"Probability of (red,black): \", prob_rb)\n",
    "\n",
    "# Probability of (black, red)\n",
    "prob_br = ((b/t)*((r)/(t-1))) \n",
    "print(\"Probability of (black, red): \", prob_br)\n",
    "\n",
    "# Probability of (black, black)\n",
    "prob_bb =  ((b/t)*((b-1)/(t-1)))\n",
    "print(\"Probability of (black, black): \", prob_bb)"
   ]
  },
  {
   "cell_type": "code",
   "execution_count": 9,
   "metadata": {},
   "outputs": [
    {
     "data": {
      "text/plain": [
       "1.0"
      ]
     },
     "execution_count": 9,
     "metadata": {},
     "output_type": "execute_result"
    }
   ],
   "source": [
    "# The probabilty of all possible outcomes\n",
    "prob_all = ((r/t)*((r-1)/(t-1)))  +  ((r/t)*((b)/(t-1)))  +  ((b/t)*((r)/(t-1)))   +  ((b/t)*((b-1)/(t-1)))\n",
    "# OR\n",
    "# prob_all = prob_rr + prob_rb + prob_br + prob_bb\n",
    "prob_all"
   ]
  },
  {
   "cell_type": "markdown",
   "metadata": {},
   "source": [
    "==========================="
   ]
  },
  {
   "attachments": {
    "image.png": {
     "image/png": "[encoded data removed]"
    }
   },
   "cell_type": "markdown",
   "metadata": {},
   "source": [
    "![image.png](attachment:image.png)"
   ]
  },
  {
   "cell_type": "markdown",
   "metadata": {},
   "source": [
    "The probability of 0 black balls (RR)is 2/15\n",
    "\n",
    "The probability of 1 black ball is (RB or BR) is 4/15+4/15 = 8/15\n",
    "\n",
    "The probability of 2 black balls (BB) is 1/3\n",
    "\n",
    "If Z is the random variable representing the number black balls. The probability distribution will be :\n"
   ]
  },
  {
   "attachments": {
    "image.png": {
     "image/png": "[encoded data removed]"
    }
   },
   "cell_type": "markdown",
   "metadata": {},
   "source": [
    "![image.png](attachment:image.png)"
   ]
  },
  {
   "cell_type": "markdown",
   "metadata": {},
   "source": [
    "Notice that the sum of the probabilities = 2/15+8/15+1/3 = 1"
   ]
  },
  {
   "cell_type": "code",
   "execution_count": null,
   "metadata": {},
   "outputs": [],
   "source": []
  }
 ],
 "metadata": {
  "kernelspec": {
   "display_name": "Python 3",
   "language": "python",
   "name": "python3"
  },
  "language_info": {
   "codemirror_mode": {
    "name": "ipython",
    "version": 3
   },
   "file_extension": ".py",
   "mimetype": "text/x-python",
   "name": "python",
   "nbconvert_exporter": "python",
   "pygments_lexer": "ipython3",
   "version": "3.7.0"
  }
 },
 "nbformat": 4,
 "nbformat_minor": 2
}
